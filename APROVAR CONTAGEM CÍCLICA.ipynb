{
 "cells": [
  {
   "cell_type": "code",
   "execution_count": 4,
   "id": "82357b5c",
   "metadata": {},
   "outputs": [
    {
     "data": {
      "text/plain": [
       "Point(x=714, y=470)"
      ]
     },
     "execution_count": 4,
     "metadata": {},
     "output_type": "execute_result"
    }
   ],
   "source": [
    "\n",
    "\n",
    "time.sleep(8)\n",
    "\n",
    "pyautogui.position()"
   ]
  },
  {
   "cell_type": "code",
   "execution_count": 3,
   "id": "b7b05b79",
   "metadata": {},
   "outputs": [],
   "source": [
    "#Aprovar contagem cíclica\n",
    "import pyautogui\n",
    "import pyperclip\n",
    "import time\n",
    "\n",
    "time.sleep(10)\n",
    "\n",
    "\n",
    "#1° LOOP\n",
    "pyautogui.PAUSE = 2\n",
    "\n",
    "#duplo click na loja\n",
    "pyautogui.click(x=263, y=136,clicks=2)\n",
    "#duplo click nos itens\n",
    "pyautogui.click(x=291, y=450,clicks=2)\n",
    "pyautogui.click(x=793, y=440)\n",
    "\n",
    "\n",
    "#clica em AUDITORIA\n",
    "pyautogui.click(x=491, y=690)\n",
    "#clica em OK\n",
    "pyautogui.click(x=807, y=442)\n",
    "\n",
    "pyautogui.PAUSE = 2\n",
    "\n",
    "#2° LOOP\n",
    "#duplo click na loja\n",
    "pyautogui.click(x=263, y=136,clicks=2)\n",
    "#duplo click nos itens\n",
    "pyautogui.click(x=291, y=450,clicks=2)\n",
    "\n",
    "#clica em AUDITORIA\n",
    "pyautogui.click(x=491, y=690)\n",
    "#clica em OK\n",
    "pyautogui.click(x=807, y=442)\n",
    "pyautogui.click(x=793, y=440)\n",
    "\n",
    "#REPROVA\n",
    "pyautogui.click(x=398, y=695)\n",
    "#CLICA EM OK PÓS REPROVAR\n",
    "pyautogui.click(x=771, y=444)\n",
    "\n",
    "\n",
    "\n",
    "#ABAIXO TODOS OS TESTES"
   ]
  },
  {
   "cell_type": "code",
   "execution_count": null,
   "id": "7405b159",
   "metadata": {},
   "outputs": [],
   "source": []
  },
  {
   "cell_type": "code",
   "execution_count": null,
   "id": "a9a884c8",
   "metadata": {},
   "outputs": [],
   "source": []
  },
  {
   "cell_type": "code",
   "execution_count": null,
   "id": "7accfb2e",
   "metadata": {},
   "outputs": [],
   "source": []
  }
 ],
 "metadata": {
  "kernelspec": {
   "display_name": "Python 3 (ipykernel)",
   "language": "python",
   "name": "python3"
  },
  "language_info": {
   "codemirror_mode": {
    "name": "ipython",
    "version": 3
   },
   "file_extension": ".py",
   "mimetype": "text/x-python",
   "name": "python",
   "nbconvert_exporter": "python",
   "pygments_lexer": "ipython3",
   "version": "3.9.7"
  }
 },
 "nbformat": 4,
 "nbformat_minor": 5
}
